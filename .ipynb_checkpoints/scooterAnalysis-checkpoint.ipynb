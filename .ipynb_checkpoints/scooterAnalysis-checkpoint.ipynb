{
 "cells": [
  {
   "cell_type": "code",
   "execution_count": 131,
   "metadata": {},
   "outputs": [],
   "source": [
    "import pandas as pd\n",
    "import numpy as np\n",
    "import matplotlib as plt"
   ]
  },
  {
   "cell_type": "code",
   "execution_count": 132,
   "metadata": {},
   "outputs": [
    {
     "name": "stdout",
     "output_type": "stream",
     "text": [
      "        xcoordinate   ycoordinate   power_level\n",
      "count  25668.000000  25668.000000  25668.000000\n",
      "mean       0.491567      0.437083      2.496065\n",
      "std        0.474552      0.515695      1.719245\n",
      "min       -0.300062     -0.290196      0.000000\n",
      "25%        0.211375     -0.025581      1.000000\n",
      "50%        0.403102      0.312886      2.000000\n",
      "75%        0.929187      0.883513      4.000000\n",
      "max        1.369517      1.357176      5.000000\n"
     ]
    }
   ],
   "source": [
    "dataset = pd.read_csv('scooterDataNoColumnZeroHeader.csv', index_col=0, header=0)\n",
    "print(dataset.describe())"
   ]
  }
 ],
 "metadata": {
  "kernelspec": {
   "display_name": "Python 3",
   "language": "python",
   "name": "python3"
  },
  "language_info": {
   "codemirror_mode": {
    "name": "ipython",
    "version": 3
   },
   "file_extension": ".py",
   "mimetype": "text/x-python",
   "name": "python",
   "nbconvert_exporter": "python",
   "pygments_lexer": "ipython3",
   "version": "3.7.3"
  }
 },
 "nbformat": 4,
 "nbformat_minor": 2
}
